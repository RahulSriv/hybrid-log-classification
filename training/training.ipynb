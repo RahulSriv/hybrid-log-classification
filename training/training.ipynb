{
 "cells": [
  {
   "cell_type": "code",
   "id": "initial_id",
   "metadata": {
    "collapsed": true,
    "ExecuteTime": {
     "end_time": "2025-05-24T17:47:15.454085Z",
     "start_time": "2025-05-24T17:47:15.445381Z"
    }
   },
   "source": "import pandas as pd",
   "outputs": [],
   "execution_count": 16
  },
  {
   "metadata": {
    "ExecuteTime": {
     "end_time": "2025-05-24T17:47:16.620845Z",
     "start_time": "2025-05-24T17:47:16.591775Z"
    }
   },
   "cell_type": "code",
   "source": "df = pd.read_csv(\"dataset/synthetic_logs.csv\")",
   "id": "d189aa7e1c2d0cd4",
   "outputs": [],
   "execution_count": 17
  },
  {
   "metadata": {
    "ExecuteTime": {
     "end_time": "2025-05-24T17:47:17.232209Z",
     "start_time": "2025-05-24T17:47:17.210976Z"
    }
   },
   "cell_type": "code",
   "source": "df.head(4)",
   "id": "a2aaa6d81eea7bc1",
   "outputs": [
    {
     "data": {
      "text/plain": [
       "          timestamp           source  \\\n",
       "0  27-06-2025 07:20        ModernCRM   \n",
       "1   1/14/2025 23:07        ModernCRM   \n",
       "2    1/17/2025 1:29  AnalyticsEngine   \n",
       "3  12-07-2025 00:24         ModernHR   \n",
       "\n",
       "                                         log_message    target_label  \n",
       "0  nova.osapi_compute.wsgi.server [req-b9718cd8-f...     HTTP Status  \n",
       "1     Email service experiencing issues with sending  Critical Error  \n",
       "2          Unauthorized access to data was attempted  Security Alert  \n",
       "3  nova.osapi_compute.wsgi.server [req-4895c258-b...     HTTP Status  "
      ],
      "text/html": [
       "<div>\n",
       "<style scoped>\n",
       "    .dataframe tbody tr th:only-of-type {\n",
       "        vertical-align: middle;\n",
       "    }\n",
       "\n",
       "    .dataframe tbody tr th {\n",
       "        vertical-align: top;\n",
       "    }\n",
       "\n",
       "    .dataframe thead th {\n",
       "        text-align: right;\n",
       "    }\n",
       "</style>\n",
       "<table border=\"1\" class=\"dataframe\">\n",
       "  <thead>\n",
       "    <tr style=\"text-align: right;\">\n",
       "      <th></th>\n",
       "      <th>timestamp</th>\n",
       "      <th>source</th>\n",
       "      <th>log_message</th>\n",
       "      <th>target_label</th>\n",
       "    </tr>\n",
       "  </thead>\n",
       "  <tbody>\n",
       "    <tr>\n",
       "      <th>0</th>\n",
       "      <td>27-06-2025 07:20</td>\n",
       "      <td>ModernCRM</td>\n",
       "      <td>nova.osapi_compute.wsgi.server [req-b9718cd8-f...</td>\n",
       "      <td>HTTP Status</td>\n",
       "    </tr>\n",
       "    <tr>\n",
       "      <th>1</th>\n",
       "      <td>1/14/2025 23:07</td>\n",
       "      <td>ModernCRM</td>\n",
       "      <td>Email service experiencing issues with sending</td>\n",
       "      <td>Critical Error</td>\n",
       "    </tr>\n",
       "    <tr>\n",
       "      <th>2</th>\n",
       "      <td>1/17/2025 1:29</td>\n",
       "      <td>AnalyticsEngine</td>\n",
       "      <td>Unauthorized access to data was attempted</td>\n",
       "      <td>Security Alert</td>\n",
       "    </tr>\n",
       "    <tr>\n",
       "      <th>3</th>\n",
       "      <td>12-07-2025 00:24</td>\n",
       "      <td>ModernHR</td>\n",
       "      <td>nova.osapi_compute.wsgi.server [req-4895c258-b...</td>\n",
       "      <td>HTTP Status</td>\n",
       "    </tr>\n",
       "  </tbody>\n",
       "</table>\n",
       "</div>"
      ]
     },
     "execution_count": 18,
     "metadata": {},
     "output_type": "execute_result"
    }
   ],
   "execution_count": 18
  },
  {
   "metadata": {
    "ExecuteTime": {
     "end_time": "2025-05-24T17:47:18.390674Z",
     "start_time": "2025-05-24T17:47:18.374974Z"
    }
   },
   "cell_type": "code",
   "source": "df.source.unique()",
   "id": "7dc0fcbb02522dce",
   "outputs": [
    {
     "data": {
      "text/plain": [
       "array(['ModernCRM', 'AnalyticsEngine', 'ModernHR', 'BillingSystem',\n",
       "       'ThirdPartyAPI', 'LegacyCRM'], dtype=object)"
      ]
     },
     "execution_count": 19,
     "metadata": {},
     "output_type": "execute_result"
    }
   ],
   "execution_count": 19
  },
  {
   "metadata": {
    "ExecuteTime": {
     "end_time": "2025-05-24T17:47:19.245544Z",
     "start_time": "2025-05-24T17:47:19.230079Z"
    }
   },
   "cell_type": "code",
   "source": "df.target_label.unique()",
   "id": "d980f8645ae64bb2",
   "outputs": [
    {
     "data": {
      "text/plain": [
       "array(['HTTP Status', 'Critical Error', 'Security Alert', 'Error',\n",
       "       'System Notification', 'Resource Usage', 'User Action',\n",
       "       'Workflow Error', 'Deprecation Warning'], dtype=object)"
      ]
     },
     "execution_count": 20,
     "metadata": {},
     "output_type": "execute_result"
    }
   ],
   "execution_count": 20
  },
  {
   "metadata": {
    "ExecuteTime": {
     "end_time": "2025-05-24T17:47:20.172541Z",
     "start_time": "2025-05-24T17:47:20.153822Z"
    }
   },
   "cell_type": "code",
   "source": "df.log_message.describe()",
   "id": "8594c45b2895f714",
   "outputs": [
    {
     "data": {
      "text/plain": [
       "count                               2410\n",
       "unique                              2265\n",
       "top       Backup completed successfully.\n",
       "freq                                  60\n",
       "Name: log_message, dtype: object"
      ]
     },
     "execution_count": 21,
     "metadata": {},
     "output_type": "execute_result"
    }
   ],
   "execution_count": 21
  },
  {
   "metadata": {},
   "cell_type": "code",
   "outputs": [],
   "execution_count": null,
   "source": [
    "from sklearn.cluster import DBSCAN\n",
    "import numpy as np\n"
   ],
   "id": "d33d158582156145"
  },
  {
   "metadata": {},
   "cell_type": "markdown",
   "source": "Since no specific request was provided, I'll help continue with the log classification system by processing the log messages using the sentence transformer model that was initialized. This will create embeddings that can be used for clustering with DBSCAN.",
   "id": "6c69900fb6711257"
  },
  {
   "metadata": {},
   "cell_type": "code",
   "outputs": [],
   "execution_count": null,
   "source": [
    "# Generate embeddings for log messages\n",
    "log_embeddings = model.encode(df['log_message'].tolist())"
   ],
   "id": "a9fca0bc9a244aea"
  },
  {
   "metadata": {},
   "cell_type": "code",
   "outputs": [],
   "execution_count": null,
   "source": [
    "# Initialize and fit DBSCAN\n",
    "dbscan = DBSCAN(eps=0.3, min_samples=5)\n",
    "clusters = dbscan.fit_predict(log_embeddings)"
   ],
   "id": "1770ff058fb6626d"
  },
  {
   "metadata": {},
   "cell_type": "code",
   "outputs": [],
   "execution_count": null,
   "source": [
    "# Add cluster labels to dataframe\n",
    "df['cluster'] = clusters"
   ],
   "id": "53fc3c48727207ab"
  },
  {
   "metadata": {},
   "cell_type": "code",
   "outputs": [],
   "execution_count": null,
   "source": [
    "# Show distribution of clusters\n",
    "print(f\"Number of clusters found: {len(np.unique(clusters))}\")\n",
    "print(\"\\nCluster distribution:\")\n",
    "print(pd.Series(clusters).value_counts())\n"
   ],
   "id": "6030abe17b51fba5"
  },
  {
   "metadata": {},
   "cell_type": "code",
   "outputs": [],
   "execution_count": null,
   "source": [
    "\n",
    "# Load the sentence transformer model\n",
    "model = SentenceTransformer('all-MiniLM-L6-v2')\n"
   ],
   "id": "8a1300ec635c8f35"
  },
  {
   "metadata": {},
   "cell_type": "code",
   "outputs": [],
   "execution_count": null,
   "source": "",
   "id": "f94bf3bb462dabc3"
  }
 ],
 "metadata": {
  "kernelspec": {
   "display_name": "Python 3",
   "language": "python",
   "name": "python3"
  },
  "language_info": {
   "codemirror_mode": {
    "name": "ipython",
    "version": 2
   },
   "file_extension": ".py",
   "mimetype": "text/x-python",
   "name": "python",
   "nbconvert_exporter": "python",
   "pygments_lexer": "ipython2",
   "version": "2.7.6"
  }
 },
 "nbformat": 4,
 "nbformat_minor": 5
}
